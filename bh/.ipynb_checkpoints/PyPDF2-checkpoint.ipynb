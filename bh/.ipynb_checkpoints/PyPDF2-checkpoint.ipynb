{
 "cells": [
  {
   "cell_type": "markdown",
   "id": "e726499c",
   "metadata": {},
   "source": [
    "## Install Dependency"
   ]
  },
  {
   "cell_type": "code",
   "execution_count": null,
   "id": "12d216eb",
   "metadata": {},
   "outputs": [],
   "source": [
    "#pip install PyPDF2[full]"
   ]
  },
  {
   "cell_type": "code",
   "execution_count": null,
   "id": "04ae7e2c",
   "metadata": {},
   "outputs": [],
   "source": [
    "#pip install PyMuPDF"
   ]
  },
  {
   "cell_type": "code",
   "execution_count": 222,
   "id": "5a2ffd6a",
   "metadata": {},
   "outputs": [],
   "source": [
    "from PyPDF2 import PdfWriter, PdfReader"
   ]
  },
  {
   "cell_type": "code",
   "execution_count": null,
   "id": "dbaefdf9",
   "metadata": {},
   "outputs": [],
   "source": [
    "pageArr = []"
   ]
  },
  {
   "cell_type": "code",
   "execution_count": 51,
   "id": "da76df39",
   "metadata": {},
   "outputs": [
    {
     "data": {
      "text/plain": [
       "12"
      ]
     },
     "execution_count": 51,
     "metadata": {},
     "output_type": "execute_result"
    }
   ],
   "source": [
    "writer = PdfWriter()\n",
    "reader1 = PdfReader(\"report.pdf\")\n",
    "len(reader1.pages)"
   ]
  },
  {
   "cell_type": "code",
   "execution_count": 57,
   "id": "3ddfe280",
   "metadata": {},
   "outputs": [
    {
     "data": {
      "text/plain": [
       "RectangleObject([0, 433.125, 612, 792])"
      ]
     },
     "execution_count": 57,
     "metadata": {},
     "output_type": "execute_result"
    }
   ],
   "source": [
    "writer = PdfWriter()\n",
    "reader1 = PdfReader(\"data/temp.pdf\")\n",
    "page1 = reader1.pages[0]\n",
    "page1.mediabox"
   ]
  },
  {
   "cell_type": "code",
   "execution_count": 58,
   "id": "72ba452b",
   "metadata": {},
   "outputs": [
    {
     "data": {
      "text/plain": [
       "RectangleObject([0, 0, 612, 433.125])"
      ]
     },
     "execution_count": 58,
     "metadata": {},
     "output_type": "execute_result"
    }
   ],
   "source": [
    "writer = PdfWriter()\n",
    "reader1 = PdfReader(\"data/temp.pdf\")\n",
    "page1 = reader1.pages[1]\n",
    "page1.mediabox"
   ]
  },
  {
   "cell_type": "code",
   "execution_count": 72,
   "id": "dfa7138f",
   "metadata": {},
   "outputs": [
    {
     "data": {
      "text/plain": [
       "792"
      ]
     },
     "execution_count": 72,
     "metadata": {},
     "output_type": "execute_result"
    }
   ],
   "source": []
  },
  {
   "cell_type": "code",
   "execution_count": 76,
   "id": "1ba81efa",
   "metadata": {},
   "outputs": [
    {
     "data": {
      "text/plain": [
       "0"
      ]
     },
     "execution_count": 76,
     "metadata": {},
     "output_type": "execute_result"
    }
   ],
   "source": [
    "page1.mediabox.bottom"
   ]
  },
  {
   "cell_type": "code",
   "execution_count": 137,
   "id": "c1ec2d34",
   "metadata": {
    "scrolled": true
   },
   "outputs": [],
   "source": [
    "from PyPDF2 import PdfFileWriter, PdfFileReader\n",
    "\n",
    "with open(\"out.pdf\", \"rb\") as in_f:\n",
    "    input1 = PdfFileReader(in_f)\n",
    "    output = PdfFileWriter()\n",
    "\n",
    "    \n",
    "    page = input1.getPage(0)\n",
    "    page.cropBox.lowerRight = (page1.cropBox.right,float(page1.cropBox.) * 0.33)\n",
    "    output.addPage(page)\n",
    "\n",
    "    with open(\"out2.pdf\", \"wb\") as out_f:\n",
    "        output.write(out_f)"
   ]
  },
  {
   "cell_type": "code",
   "execution_count": 140,
   "id": "17221034",
   "metadata": {},
   "outputs": [
    {
     "ename": "IndexError",
     "evalue": "sequence index out of range",
     "output_type": "error",
     "traceback": [
      "\u001b[1;31m---------------------------------------------------------------------------\u001b[0m",
      "\u001b[1;31mIndexError\u001b[0m                                Traceback (most recent call last)",
      "\u001b[1;32m~\\AppData\\Local\\Temp/ipykernel_34328/563575584.py\u001b[0m in \u001b[0;36m<module>\u001b[1;34m\u001b[0m\n\u001b[0;32m      1\u001b[0m \u001b[0mreader1\u001b[0m \u001b[1;33m=\u001b[0m \u001b[0mPdfReader\u001b[0m\u001b[1;33m(\u001b[0m\u001b[1;34m\"out.pdf\"\u001b[0m\u001b[1;33m)\u001b[0m\u001b[1;33m\u001b[0m\u001b[1;33m\u001b[0m\u001b[0m\n\u001b[1;32m----> 2\u001b[1;33m \u001b[0mpage1\u001b[0m \u001b[1;33m=\u001b[0m \u001b[0mreader1\u001b[0m\u001b[1;33m.\u001b[0m\u001b[0mpages\u001b[0m\u001b[1;33m[\u001b[0m\u001b[1;36m1\u001b[0m\u001b[1;33m]\u001b[0m\u001b[1;33m\u001b[0m\u001b[1;33m\u001b[0m\u001b[0m\n\u001b[0m\u001b[0;32m      3\u001b[0m \u001b[0mpage1\u001b[0m\u001b[1;33m.\u001b[0m\u001b[0mcropBox\u001b[0m\u001b[1;33m\u001b[0m\u001b[1;33m\u001b[0m\u001b[0m\n",
      "\u001b[1;32m~\\anaconda3\\lib\\site-packages\\PyPDF2\\_page.py\u001b[0m in \u001b[0;36m__getitem__\u001b[1;34m(self, index)\u001b[0m\n\u001b[0;32m   2047\u001b[0m             \u001b[0mindex\u001b[0m \u001b[1;33m=\u001b[0m \u001b[0mlen_self\u001b[0m \u001b[1;33m+\u001b[0m \u001b[0mindex\u001b[0m\u001b[1;33m\u001b[0m\u001b[1;33m\u001b[0m\u001b[0m\n\u001b[0;32m   2048\u001b[0m         \u001b[1;32mif\u001b[0m \u001b[0mindex\u001b[0m \u001b[1;33m<\u001b[0m \u001b[1;36m0\u001b[0m \u001b[1;32mor\u001b[0m \u001b[0mindex\u001b[0m \u001b[1;33m>=\u001b[0m \u001b[0mlen_self\u001b[0m\u001b[1;33m:\u001b[0m\u001b[1;33m\u001b[0m\u001b[1;33m\u001b[0m\u001b[0m\n\u001b[1;32m-> 2049\u001b[1;33m             \u001b[1;32mraise\u001b[0m \u001b[0mIndexError\u001b[0m\u001b[1;33m(\u001b[0m\u001b[1;34m\"sequence index out of range\"\u001b[0m\u001b[1;33m)\u001b[0m\u001b[1;33m\u001b[0m\u001b[1;33m\u001b[0m\u001b[0m\n\u001b[0m\u001b[0;32m   2050\u001b[0m         \u001b[1;32mreturn\u001b[0m \u001b[0mself\u001b[0m\u001b[1;33m.\u001b[0m\u001b[0mget_function\u001b[0m\u001b[1;33m(\u001b[0m\u001b[0mindex\u001b[0m\u001b[1;33m)\u001b[0m\u001b[1;33m\u001b[0m\u001b[1;33m\u001b[0m\u001b[0m\n\u001b[0;32m   2051\u001b[0m \u001b[1;33m\u001b[0m\u001b[0m\n",
      "\u001b[1;31mIndexError\u001b[0m: sequence index out of range"
     ]
    }
   ],
   "source": [
    "reader1 = PdfReader(\"out.pdf\")\n",
    "page1 = reader1.pages[0]\n",
    "page1.cropBox"
   ]
  },
  {
   "cell_type": "code",
   "execution_count": null,
   "id": "b1519696",
   "metadata": {},
   "outputs": [],
   "source": []
  },
  {
   "cell_type": "code",
   "execution_count": 95,
   "id": "0f458cdb",
   "metadata": {},
   "outputs": [
    {
     "data": {
      "text/plain": [
       "(200, 200)"
      ]
     },
     "execution_count": 95,
     "metadata": {},
     "output_type": "execute_result"
    }
   ],
   "source": [
    "page.cropBox.upperRight"
   ]
  },
  {
   "cell_type": "code",
   "execution_count": 91,
   "id": "c134811a",
   "metadata": {},
   "outputs": [
    {
     "data": {
      "text/plain": [
       "RectangleObject([0, 0, 612, 792])"
      ]
     },
     "execution_count": 91,
     "metadata": {},
     "output_type": "execute_result"
    }
   ],
   "source": [
    "writer = PdfWriter()\n",
    "reader1 = PdfReader(\"out.pdf\")\n",
    "page1 = reader1.pages[0]\n",
    "page1.mediabox"
   ]
  },
  {
   "cell_type": "code",
   "execution_count": null,
   "id": "8d07765b",
   "metadata": {},
   "outputs": [],
   "source": []
  },
  {
   "cell_type": "code",
   "execution_count": 195,
   "id": "e0bcffc9",
   "metadata": {},
   "outputs": [],
   "source": [
    "writer = PdfWriter()\n",
    "reader1 = PdfReader(\"testing3.pdf\")\n",
    "page1 = reader1.pages[0]\n",
    "if(page1.mediabox.bottom == 0):\n",
    "    page1.mediabox.lower_right = (\n",
    "        page1.mediabox.right,\n",
    "        float(page1.mediabox.top) * (1-0.33),\n",
    "    )\n",
    "else:\n",
    "    newPos = float(page1.mediabox.bottom) + (float(page1.mediabox.top) - float(page1.mediabox.bottom))* (1-0.33)\n",
    "    page1.mediabox.lower_right = (\n",
    "        page1.mediabox.right,\n",
    "        newPos,\n",
    "    )\n",
    "    \n",
    "writer.add_page(page1)\n",
    "\n",
    "reader2 = PdfReader(\"testing3.pdf\")\n",
    "page2 = reader2.pages[0]\n",
    "if(page2.mediabox.bottom == 0):\n",
    "    page2.mediabox.upper_right = (\n",
    "        page2.mediabox.right,\n",
    "        float(page2.mediabox.top) * (1-0.33),\n",
    "    )\n",
    "else:\n",
    "    page2.mediabox.upper_right = (\n",
    "        page2.mediabox.right,\n",
    "        newPos,\n",
    "    )\n",
    "writer.add_page(page2)\n",
    "\n",
    "with open(\"testing4.pdf\", \"wb\") as fp:\n",
    "    writer.write(fp)"
   ]
  },
  {
   "cell_type": "code",
   "execution_count": 187,
   "id": "f997b5a3",
   "metadata": {},
   "outputs": [
    {
     "name": "stdout",
     "output_type": "stream",
     "text": [
      "RectangleObject([0, 530.6399999999999863575794734060764312744140625, 612, 792])\n",
      "RectangleObject([0, 0, 612, 530.6399999999999863575794734060764312744140625])\n"
     ]
    }
   ],
   "source": [
    "reader1 = PdfReader(\"testing.pdf\")\n",
    "for i in range(len(reader1.pages)):\n",
    "    page1 = reader1.pages[i]\n",
    "    print(page1.mediabox)"
   ]
  },
  {
   "cell_type": "code",
   "execution_count": 188,
   "id": "e2f56671",
   "metadata": {},
   "outputs": [
    {
     "name": "stdout",
     "output_type": "stream",
     "text": [
      "RectangleObject([0, 355.5287999999999328792910091578960418701171875, 612, 530.6399999999999863575794734060764312744140625])\n",
      "RectangleObject([0, 0, 612, 355.5287999999999328792910091578960418701171875])\n"
     ]
    }
   ],
   "source": [
    "reader1 = PdfReader(\"testing2.pdf\")\n",
    "for i in range(len(reader1.pages)):\n",
    "    page1 = reader1.pages[i]\n",
    "    print(page1.mediabox)"
   ]
  },
  {
   "cell_type": "code",
   "execution_count": 189,
   "id": "5d4fb380",
   "metadata": {},
   "outputs": [
    {
     "name": "stdout",
     "output_type": "stream",
     "text": [
      "RectangleObject([0, 228.0759493670885831306804902851581573486328125, 612, 792])\n",
      "RectangleObject([0, 431.88749999999998863131622783839702606201171875, 612, 228.0759493670885831306804902851581573486328125])\n",
      "RectangleObject([0, 0, 612, 431.88749999999998863131622783839702606201171875])\n"
     ]
    }
   ],
   "source": [
    "reader1 = PdfReader(\"data/temp.pdf\")\n",
    "for i in range(len(reader1.pages)):\n",
    "    page1 = reader1.pages[i]\n",
    "    print(page1.mediabox)"
   ]
  },
  {
   "cell_type": "code",
   "execution_count": 190,
   "id": "e4c72061",
   "metadata": {},
   "outputs": [
    {
     "name": "stdout",
     "output_type": "stream",
     "text": [
      "RectangleObject([0, 530.6399999999999863575794734060764312744140625, 612, 792])\n",
      "RectangleObject([0, 0, 612, 530.6399999999999863575794734060764312744140625])\n"
     ]
    }
   ],
   "source": [
    "reader1 = PdfReader(\"testing3.pdf\")\n",
    "for i in range(len(reader1.pages)):\n",
    "    page1 = reader1.pages[i]\n",
    "    print(page1.mediabox)"
   ]
  },
  {
   "cell_type": "code",
   "execution_count": 191,
   "id": "4102ac63",
   "metadata": {},
   "outputs": [
    {
     "name": "stdout",
     "output_type": "stream",
     "text": [
      "RectangleObject([0, 705.751199999999926149030216038227081298828125, 612, 792])\n",
      "RectangleObject([0, 0, 612, 530.6399999999999863575794734060764312744140625])\n"
     ]
    }
   ],
   "source": [
    "reader1 = PdfReader(\"testing4.pdf\")\n",
    "for i in range(len(reader1.pages)):\n",
    "    page1 = reader1.pages[i]\n",
    "    print(page1.mediabox)"
   ]
  },
  {
   "cell_type": "code",
   "execution_count": 103,
   "id": "a9b6a684",
   "metadata": {},
   "outputs": [
    {
     "data": {
      "text/plain": [
       "(612, 792)"
      ]
     },
     "execution_count": 103,
     "metadata": {},
     "output_type": "execute_result"
    }
   ],
   "source": [
    "page1.mediabox.upper_right"
   ]
  },
  {
   "cell_type": "code",
   "execution_count": 102,
   "id": "021a91cc",
   "metadata": {},
   "outputs": [
    {
     "data": {
      "text/plain": [
       "(612, 530.6399999999999863575794734060764312744140625)"
      ]
     },
     "execution_count": 102,
     "metadata": {},
     "output_type": "execute_result"
    }
   ],
   "source": [
    "page1.mediabox.lower_right"
   ]
  },
  {
   "cell_type": "code",
   "execution_count": 45,
   "id": "511580b9",
   "metadata": {},
   "outputs": [],
   "source": [
    "writer = PdfWriter()\n",
    "reader1 = PdfReader(\"report.pdf\")\n",
    "page1 = reader1.pages[0]\n",
    "page1.mediabox.lower_right = (\n",
    "    page1.mediabox.right,\n",
    "    page1.mediabox.top * (1-0.33),\n",
    ")\n",
    "writer.add_page(page1)\n",
    "reader2 = PdfReader(\"report.pdf\")\n",
    "page2 = reader2.pages[0]\n",
    "page2.mediabox.upper_right = (\n",
    "    page2.mediabox.right,\n",
    "    page2.mediabox.top * (1-0.33),\n",
    ")\n",
    "writer.add_page(page2)\n",
    "with open(\"PyPDF2-output.pdf\", \"wb\") as fp:\n",
    "    writer.write(fp)"
   ]
  },
  {
   "cell_type": "code",
   "execution_count": 226,
   "id": "3f0dbf85",
   "metadata": {},
   "outputs": [],
   "source": [
    "#writer.add_js(\"this.print({bUI:true,bSilent:false,bShrinkToFit:true});\")"
   ]
  },
  {
   "cell_type": "code",
   "execution_count": 227,
   "id": "a6e90b60",
   "metadata": {},
   "outputs": [],
   "source": [
    "with open(\"PyPDF2-output.pdf\", \"wb\") as fp:\n",
    "    writer.write(fp)"
   ]
  },
  {
   "cell_type": "code",
   "execution_count": 38,
   "id": "2085aa09",
   "metadata": {},
   "outputs": [],
   "source": [
    "from PyPDF2 import PdfWriter, PdfReader"
   ]
  },
  {
   "cell_type": "code",
   "execution_count": 39,
   "id": "76195b33",
   "metadata": {},
   "outputs": [],
   "source": [
    "reader = PdfReader(\"Blank.pdf\")"
   ]
  },
  {
   "cell_type": "code",
   "execution_count": 40,
   "id": "c759d188",
   "metadata": {},
   "outputs": [],
   "source": [
    "reader1 = PdfReader(\"report.pdf\")\n",
    "writer = PdfWriter()\n",
    "page1 = reader1.pages[0]\n",
    "page1.mediabox.lower_right = (\n",
    "    page1.mediabox.right,\n",
    "    page1.mediabox.top * (1-0.33),\n",
    ")\n",
    "writer.add_page(page1)\n",
    "writer.add_page(reader.pages[0])"
   ]
  },
  {
   "cell_type": "code",
   "execution_count": 41,
   "id": "1bd067a7",
   "metadata": {},
   "outputs": [],
   "source": [
    "reader2 = PdfReader(\"report.pdf\")\n",
    "page2 = reader2.pages[0]\n",
    "page2.mediabox.upper_right = (\n",
    "    page2.mediabox.right,\n",
    "    page2.mediabox.top * (1-0.33),\n",
    ")\n",
    "\n",
    "writer.add_page(page2)\n",
    "writer.add_page(reader.pages[0])\n",
    "with open(\"file2.pdf\", \"wb\") as fp:\n",
    "    writer.write(fp)"
   ]
  },
  {
   "cell_type": "code",
   "execution_count": 42,
   "id": "86a5e687",
   "metadata": {},
   "outputs": [],
   "source": [
    "from PyPDF2 import PdfMerger\n",
    "\n",
    "merger = PdfMerger()\n",
    "\n",
    "for pdf in [\"file1.pdf\", \"file2.pdf\"]:\n",
    "    merger.append(pdf)\n",
    "\n",
    "merger.write(\"merged-pdf.pdf\")\n",
    "merger.close()"
   ]
  },
  {
   "cell_type": "code",
   "execution_count": 209,
   "id": "9b31d48b",
   "metadata": {},
   "outputs": [],
   "source": [
    "from PyPDF2 import PageObject\n",
    "import os \n",
    "from PyPDF2 import PdfFileReader, PdfFileWriter\n",
    "#Open the files that have to be merged\n",
    "pdf1File = open('data/tempBlank.pdf', 'rb')\n",
    "\n",
    "#Read the files that you have opened\n",
    "pdf1Reader = PdfFileReader(pdf1File)\n",
    "\n",
    "#Make a list of all pages\n",
    "pages = []\n",
    "for pageNum in range(pdf1Reader.numPages):\n",
    "    pageObj = pdf1Reader.getPage(pageNum)\n",
    "    pages.append(pageObj)\n",
    "\n",
    "#Calculate width and height for final output page\n",
    "width = pages[1].mediaBox.getWidth()\n",
    "height = pages[1].mediaBox.getHeight() + pages[0].mediaBox.getHeight()\n",
    "\n",
    "#Create blank page to merge all pages in one page\n",
    "merged_page = PageObject.createBlankPage(None, width, height)\n",
    "writer = PdfFileWriter()\n",
    "#Loop through all pages and merge / add them to blank page\n",
    "y =0\n",
    "for page in range(len(pages)):\n",
    "    y+=1\n",
    "    if y%2!=0:\n",
    "        merged_page.mergePage(pages[page+1])\n",
    "        x=float(pages[page].mediaBox.getHeight())\n",
    "        merged_page.mergeScaledTranslatedPage(pages[page], 1,0, x)\n",
    "    if y%2==0:\n",
    "        writer.addPage(merged_page)\n",
    "        width = pages[page].mediaBox.getWidth()\n",
    "        height = pages[page-1].mediaBox.getHeight() + pages[page].mediaBox.getHeight()\n",
    "        merged_page = PageObject.createBlankPage(None, width, height)\n",
    "        y=0\n",
    "    \n",
    "    \n",
    "\n",
    "#Create final file with one page\n",
    "\n",
    "\n",
    "\n",
    "with open('out.pdf', 'wb') as f:\n",
    "    writer.write(f)"
   ]
  },
  {
   "cell_type": "code",
   "execution_count": null,
   "id": "2f3c12e5",
   "metadata": {},
   "outputs": [],
   "source": [
    "for page in range(Page.maxPage):\n",
    "    reader = PdfReader(\"Blank.pdf\")\n",
    "    page = reader.pages[0]\n",
    "    writer.add_page(page)\n",
    "    y+=1\n",
    "    if y%2!=0:\n",
    "        merged_page.mergePage(pages[page+1])\n",
    "        x=float(pages[page].mediaBox.getHeight())\n",
    "        merged_page.mergeScaledTranslatedPage(pages[page], 1,0, x)\n",
    "    if y%2==0:\n",
    "        writer.addPage(merged_page)\n",
    "        width = pages[page].mediaBox.getWidth()\n",
    "        height = pages[page-1].mediaBox.getHeight() + pages[page].mediaBox.getHeight()\n",
    "        merged_page = PageObject.createBlankPage(None, width, height)\n",
    "        y=0"
   ]
  },
  {
   "cell_type": "code",
   "execution_count": 202,
   "id": "1ea825e5",
   "metadata": {},
   "outputs": [],
   "source": [
    "from PyPDF2 import PdfMerger\n",
    "\n",
    "merger = PdfMerger()\n",
    "\n",
    "input1 = open(\"data/temp.pdf\", \"rb\")\n",
    "input2 = open(\"data/blank.pdf\", \"rb\")\n",
    "\n",
    "for i in range(5):\n",
    "    merger.append(fileobj=input1, pages=(i, i+1))\n",
    "\n",
    "    # insert the first page of input2 into the output beginning after the second page\n",
    "    merger.append(fileobj=input2)\n",
    "\n",
    "output = open(\"tempBlank.pdf\", \"wb\")\n",
    "merger.write(output)\n"
   ]
  },
  {
   "cell_type": "code",
   "execution_count": 219,
   "id": "89cbe1ba",
   "metadata": {},
   "outputs": [],
   "source": [
    "pdf1File = open('tempBlank.pdf', 'rb')\n",
    "\n",
    "#Read the files that you have opened\n",
    "pdf1Reader = PdfReader(pdf1File)"
   ]
  },
  {
   "cell_type": "code",
   "execution_count": 220,
   "id": "8deaf768",
   "metadata": {
    "scrolled": false
   },
   "outputs": [
    {
     "data": {
      "text/plain": [
       "10"
      ]
     },
     "execution_count": 220,
     "metadata": {},
     "output_type": "execute_result"
    }
   ],
   "source": [
    "pdf1Reader.numPages"
   ]
  },
  {
   "cell_type": "code",
   "execution_count": 223,
   "id": "9f0d78ed",
   "metadata": {},
   "outputs": [
    {
     "data": {
      "text/plain": [
       "10"
      ]
     },
     "execution_count": 223,
     "metadata": {},
     "output_type": "execute_result"
    }
   ],
   "source": [
    "reader1 = PdfReader(\"testing4.pdf\")\n",
    "for i in range(len(reader1.pages)):\n",
    "    page1 = reader1.pages[i]\n",
    "    print(page1.mediabox)"
   ]
  },
  {
   "cell_type": "code",
   "execution_count": 246,
   "id": "c7feb008",
   "metadata": {},
   "outputs": [
    {
     "name": "stdout",
     "output_type": "stream",
     "text": [
      "nothing\n"
     ]
    }
   ],
   "source": [
    "from PyPDF2 import PageObject\n",
    "import os \n",
    "from PyPDF2 import PdfFileReader, PdfFileWriter\n",
    "#Open the files that have to be merged\n",
    "pdf1File = open('data/tempBlank.pdf', 'rb')\n",
    "\n",
    "#Read the files that you have opened\n",
    "pdf1Reader = PdfFileReader(pdf1File)\n",
    "\n",
    "#Make a list of all pages\n",
    "pages = []\n",
    "for pageNum in range(pdf1Reader.numPages):\n",
    "    pageObj = pdf1Reader.getPage(pageNum)\n",
    "    pages.append(pageObj)\n",
    "\n",
    "#Calculate width and height for final output page\n",
    "width = pages[1].mediaBox.getWidth()\n",
    "height = pages[1].mediaBox.getHeight() + pages[0].mediaBox.getHeight()\n",
    "prvHeight = 0\n",
    "#Create blank page to merge all pages in one page\n",
    "merged_page = PageObject.createBlankPage(None, width, height)\n",
    "writer = PdfFileWriter()\n",
    "#Loop through all pages and merge / add them to blank page\n",
    "y =0\n",
    "\n",
    "for page in range(len(pages)):\n",
    "    y+=1\n",
    "    if y%2!=0:\n",
    "        \n",
    "        x=float(pages[page].mediaBox.getHeight())\n",
    "        merged_page.mergeScaledTranslatedPage(pages[page], 1,0, 100)\n",
    "        merged_page.mergePage(pages[page+1])\n",
    "    if y%2==0:\n",
    "        writer.addPage(merged_page)\n",
    "        width = pages[page].mediaBox.getWidth()\n",
    "        try:\n",
    "            \n",
    "            height = pages[page+1].mediaBox.getHeight() + pages[page+2].mediaBox.getHeight()\n",
    "            merged_page = PageObject.createBlankPage(None, width, height)\n",
    "            \n",
    "        except:\n",
    "            print(\"nothing\")\n",
    "        y=0\n",
    "    \n",
    "    \n",
    "\n",
    "#Create final file with one page\n",
    "\n",
    "\n",
    "\n",
    "with open('out.pdf', 'wb') as f:\n",
    "    writer.write(f)"
   ]
  },
  {
   "cell_type": "code",
   "execution_count": null,
   "id": "3c700f9d",
   "metadata": {},
   "outputs": [],
   "source": []
  },
  {
   "cell_type": "code",
   "execution_count": null,
   "id": "d2321b5a",
   "metadata": {},
   "outputs": [],
   "source": []
  }
 ],
 "metadata": {
  "kernelspec": {
   "display_name": "Python 3 (ipykernel)",
   "language": "python",
   "name": "python3"
  },
  "language_info": {
   "codemirror_mode": {
    "name": "ipython",
    "version": 3
   },
   "file_extension": ".py",
   "mimetype": "text/x-python",
   "name": "python",
   "nbconvert_exporter": "python",
   "pygments_lexer": "ipython3",
   "version": "3.9.7"
  }
 },
 "nbformat": 4,
 "nbformat_minor": 5
}
